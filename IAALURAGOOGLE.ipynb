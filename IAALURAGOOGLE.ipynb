{
  "nbformat": 4,
  "nbformat_minor": 0,
  "metadata": {
    "colab": {
      "provenance": [],
      "authorship_tag": "ABX9TyPTS3HdlY43VW6jbBCYjWgp",
      "include_colab_link": true
    },
    "kernelspec": {
      "name": "python3",
      "display_name": "Python 3"
    },
    "language_info": {
      "name": "python"
    }
  },
  "cells": [
    {
      "cell_type": "markdown",
      "metadata": {
        "id": "view-in-github",
        "colab_type": "text"
      },
      "source": [
        "<a href=\"https://colab.research.google.com/github/wendelalencar/Imers-o_IA_ALURA_Google/blob/main/IAALURAGOOGLE.ipynb\" target=\"_parent\"><img src=\"https://colab.research.google.com/assets/colab-badge.svg\" alt=\"Open In Colab\"/></a>"
      ]
    },
    {
      "cell_type": "markdown",
      "source": [
        "Instalando o SDK do Google"
      ],
      "metadata": {
        "id": "uMnWMOwB0N5U"
      }
    },
    {
      "cell_type": "code",
      "execution_count": 1,
      "metadata": {
        "id": "Xn0QZ28g0MtK"
      },
      "outputs": [],
      "source": [
        "!pip install -q -U google-generativeai"
      ]
    },
    {
      "cell_type": "markdown",
      "source": [
        "Fazendo as configurações iniciai\n",
        "\n",
        "```\n",
        "# Isto está formatado como código\n",
        "```\n",
        "\n"
      ],
      "metadata": {
        "id": "ZG8NRAs00ZKa"
      }
    },
    {
      "cell_type": "code",
      "source": [
        "import google.generativeai as genai\n",
        "\n",
        "GOOGLE_API_KEY=\"Para postar\"\n",
        "genai.configure(api_key=GOOGLE_API_KEY)"
      ],
      "metadata": {
        "id": "VYcAOBga0TR0"
      },
      "execution_count": 1,
      "outputs": []
    },
    {
      "cell_type": "markdown",
      "source": [
        "Agora listar os modelos disponíveis"
      ],
      "metadata": {
        "id": "eaM1HBal0tEi"
      }
    },
    {
      "cell_type": "code",
      "source": [
        "for m in genai.list_models():\n",
        "  if 'generateContent' in m.supported_generation_methods:\n",
        "    print(m.name)"
      ],
      "metadata": {
        "colab": {
          "base_uri": "https://localhost:8080/",
          "height": 138
        },
        "id": "f2p2AoUs0qSq",
        "outputId": "6e9a090c-a853-4a91-dc8a-bb56d23eee91"
      },
      "execution_count": 2,
      "outputs": [
        {
          "output_type": "stream",
          "name": "stdout",
          "text": [
            "models/gemini-1.0-pro\n",
            "models/gemini-1.0-pro-001\n",
            "models/gemini-1.0-pro-latest\n",
            "models/gemini-1.0-pro-vision-latest\n",
            "models/gemini-1.5-pro-latest\n",
            "models/gemini-pro\n",
            "models/gemini-pro-vision\n"
          ]
        }
      ]
    },
    {
      "cell_type": "code",
      "source": [
        "generation_config = {\n",
        "  \"candidate_count\": 1,\n",
        "  \"temperature\": 0.5,\n",
        "}"
      ],
      "metadata": {
        "id": "zGBCDyaK15AC"
      },
      "execution_count": 3,
      "outputs": []
    },
    {
      "cell_type": "code",
      "source": [
        "safety_settings={\n",
        "    'HATE': 'BLOCK_NONE',\n",
        "    'HARASSMENT': 'BLOCK_NONE',\n",
        "    'SEXUAL' : 'BLOCK_NONE',\n",
        "    'DANGEROUS' : 'BLOCK_NONE'\n",
        "    }"
      ],
      "metadata": {
        "id": "VC6_Bmm119GU"
      },
      "execution_count": 4,
      "outputs": []
    },
    {
      "cell_type": "code",
      "source": [
        "model = genai.GenerativeModel(model_name='gemini-1.0-pro',\n",
        "                                  generation_config=generation_config,\n",
        "                                  safety_settings=safety_settings,)"
      ],
      "metadata": {
        "id": "XihADG912CXy"
      },
      "execution_count": 5,
      "outputs": []
    },
    {
      "cell_type": "code",
      "source": [
        "response = model.generate_content(\"Que empresa criou o modelo de IA Gemini?\")\n",
        "print (response.text)"
      ],
      "metadata": {
        "colab": {
          "base_uri": "https://localhost:8080/",
          "height": 34
        },
        "id": "7NA0gWIU2IJ2",
        "outputId": "663614f3-394a-455d-d5e8-d46f68bba50e"
      },
      "execution_count": 6,
      "outputs": [
        {
          "output_type": "stream",
          "name": "stdout",
          "text": [
            "Google\n"
          ]
        }
      ]
    },
    {
      "cell_type": "code",
      "source": [
        "chat = model.start_chat(history=[])\n",
        "\n",
        "prompt = input('Esperando prompt: ')\n",
        "\n",
        "while prompt != \"fim\":\n",
        "  response = chat.send_message(prompt)\n",
        "  print(\"Resposta:\", response.text, '\\n\\n')\n",
        "  prompt = input('Esperando prompt: ')"
      ],
      "metadata": {
        "colab": {
          "base_uri": "https://localhost:8080/",
          "height": 611
        },
        "id": "rMtMkvgF2SNU",
        "outputId": "ab5bf760-1e6c-4835-e10a-458f8fc68531"
      },
      "execution_count": null,
      "outputs": [
        {
          "output_type": "stream",
          "name": "stdout",
          "text": [
            "Esperando prompt: Qual o estado do Brasil com maior população?\n",
            "Resposta: São Paulo \n",
            "\n",
            "\n",
            "Esperando prompt: Qual a população desta cidade?\n",
            "Resposta: 46.614.003 habitantes (estimativa IBGE 2023) \n",
            "\n",
            "\n",
            "Esperando prompt: Qual o bairro de São Paulo com maior população?\n",
            "Resposta: Jardim Ângela \n",
            "\n",
            "\n",
            "Esperando prompt: E qual o bairro com menor população?\n",
            "Resposta: Ilha Porchat \n",
            "\n",
            "\n",
            "Esperando prompt: Qual a população de Taboão da Serra?\n",
            "Resposta: 296.027 habitantes (estimativa IBGE 2023) \n",
            "\n",
            "\n",
            "Esperando prompt: Qual a temperatura?\n",
            "Resposta: Não tenho acesso a informações em tempo real, portanto não posso fornecer a temperatura atual. Recomendo verificar a previsão do tempo em um site ou aplicativo confiável. \n",
            "\n",
            "\n",
            "Esperando prompt: Qual a previsão do tempo de hoje?\n",
            "Resposta: Não tenho acesso a informações em tempo real, portanto não posso fornecer a previsão do tempo de hoje. Recomendo verificar a previsão do tempo em um site ou aplicativo confiável. \n",
            "\n",
            "\n",
            "Esperando prompt: Qual a população de Valinhos?\n",
            "Resposta: 129.105 habitantes (estimativa IBGE 2023) \n",
            "\n",
            "\n"
          ]
        }
      ]
    }
  ]
}